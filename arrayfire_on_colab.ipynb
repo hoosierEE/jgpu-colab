{
  "nbformat": 4,
  "nbformat_minor": 0,
  "metadata": {
    "colab": {
      "name": "arrayfire-on-colab",
      "provenance": [],
      "collapsed_sections": []
    },
    "kernelspec": {
      "name": "python3",
      "display_name": "Python 3"
    },
    "language_info": {
      "name": "python"
    },
    "accelerator": "GPU"
  },
  "cells": [
    {
      "cell_type": "code",
      "metadata": {
        "id": "5zHbU-M--QiO",
        "colab": {
          "base_uri": "https://localhost:8080/"
        },
        "outputId": "cfaad223-2eae-4b07-96fe-7f8984be404f"
      },
      "source": [
        "# This is a simple example of using arrayfire and benchmarking one of its\n",
        "# functions, \"pinverse.\" See https://arrayfire.org for more functions.\n",
        "\n",
        "# install arrayfire\n",
        "!pip install arrayfire==3.8.0+cu112 -f https://repo.arrayfire.com/python/wheels/3.8.0/\n",
        "import arrayfire as af"
      ],
      "execution_count": null,
      "outputs": [
        {
          "output_type": "stream",
          "name": "stdout",
          "text": [
            "Looking in links: https://repo.arrayfire.com/python/wheels/3.8.0/\n",
            "Collecting arrayfire==3.8.0+cu112\n",
            "  Downloading https://repo.arrayfire.com/python/wheels/3.8.0/arrayfire-3.8.0%2Bcu112-cp37-cp37m-linux_x86_64.whl (868.5 MB)\n",
            "\u001b[K     |██████████████████████████████▊ | 834.1 MB 1.2 MB/s eta 0:00:29tcmalloc: large alloc 1147494400 bytes == 0x55e6dd7b6000 @  0x7ff91b196615 0x55e6a41124cc 0x55e6a41f247a 0x55e6a41152ed 0x55e6a4206e1d 0x55e6a4188e99 0x55e6a41839ee 0x55e6a4116bda 0x55e6a4188d00 0x55e6a41839ee 0x55e6a4116bda 0x55e6a4185737 0x55e6a4207c66 0x55e6a4184daf 0x55e6a4207c66 0x55e6a4184daf 0x55e6a4207c66 0x55e6a4184daf 0x55e6a4117039 0x55e6a415a409 0x55e6a4115c52 0x55e6a4188c25 0x55e6a41839ee 0x55e6a4116bda 0x55e6a4185737 0x55e6a41839ee 0x55e6a4116bda 0x55e6a4184915 0x55e6a4116afa 0x55e6a4184c0d 0x55e6a41839ee\n",
            "\u001b[K     |████████████████████████████████| 868.5 MB 19 kB/s \n",
            "\u001b[?25hCollecting scikit-build\n",
            "  Downloading scikit_build-0.12.0-py2.py3-none-any.whl (73 kB)\n",
            "\u001b[K     |████████████████████████████████| 73 kB 1.4 MB/s \n",
            "\u001b[?25hRequirement already satisfied: wheel>=0.29.0 in /usr/local/lib/python3.7/dist-packages (from scikit-build->arrayfire==3.8.0+cu112) (0.37.0)\n",
            "Requirement already satisfied: packaging in /usr/local/lib/python3.7/dist-packages (from scikit-build->arrayfire==3.8.0+cu112) (21.0)\n",
            "Collecting distro\n",
            "  Downloading distro-1.6.0-py2.py3-none-any.whl (19 kB)\n",
            "Requirement already satisfied: setuptools>=28.0.0 in /usr/local/lib/python3.7/dist-packages (from scikit-build->arrayfire==3.8.0+cu112) (57.4.0)\n",
            "Requirement already satisfied: pyparsing>=2.0.2 in /usr/local/lib/python3.7/dist-packages (from packaging->scikit-build->arrayfire==3.8.0+cu112) (2.4.7)\n",
            "Installing collected packages: distro, scikit-build, arrayfire\n",
            "Successfully installed arrayfire-3.8.0+cu112 distro-1.6.0 scikit-build-0.12.0\n"
          ]
        }
      ]
    },
    {
      "cell_type": "code",
      "metadata": {
        "colab": {
          "base_uri": "https://localhost:8080/"
        },
        "id": "02rxwqIQ0SMY",
        "outputId": "653a2c2b-e73e-4b66-d5be-bffcb6df70c2"
      },
      "source": [
        "#af.__file__\n",
        "!ls /usr/local/lib/python3.7/dist-packages/arrayfire/*.so*"
      ],
      "execution_count": null,
      "outputs": [
        {
          "output_type": "stream",
          "name": "stdout",
          "text": [
            "/usr/local/lib/python3.7/dist-packages/arrayfire/libafcpu.so.3\n",
            "/usr/local/lib/python3.7/dist-packages/arrayfire/libafcuda.so.3\n",
            "/usr/local/lib/python3.7/dist-packages/arrayfire/libafopencl.so.3\n",
            "/usr/local/lib/python3.7/dist-packages/arrayfire/libaf.so.3\n",
            "/usr/local/lib/python3.7/dist-packages/arrayfire/libcudnn.so.8.1.0\n",
            "/usr/local/lib/python3.7/dist-packages/arrayfire/libforge.so.1\n",
            "/usr/local/lib/python3.7/dist-packages/arrayfire/libiomp5.so\n",
            "/usr/local/lib/python3.7/dist-packages/arrayfire/libnvrtc-builtins.so\n",
            "/usr/local/lib/python3.7/dist-packages/arrayfire/libnvrtc.so.11.2\n",
            "/usr/local/lib/python3.7/dist-packages/arrayfire/libOpenCL.so.1\n"
          ]
        }
      ]
    },
    {
      "cell_type": "code",
      "metadata": {
        "id": "dZoxBBT7_Ldu"
      },
      "source": [
        "# test installation success\n",
        "af.set_backend('cuda')    # we're on a solid gpu\n",
        "print(af.info_str())                       \n",
        "print(af.randu(3,3))      # matrix of random numbers on gpu"
      ],
      "execution_count": null,
      "outputs": []
    },
    {
      "cell_type": "code",
      "metadata": {
        "id": "2aApop2B-2Ev"
      },
      "source": [
        "# run something simple on GPU\n",
        "%%timeit\n",
        "A = af.randu(1000, 20)    # create some data in a 1000x20 matrix\n",
        "af.pinverse(A);           # psuedo inverse, modify to benchmark other functions\n",
        "af.sync()                 # execute code"
      ],
      "execution_count": null,
      "outputs": []
    },
    {
      "cell_type": "code",
      "metadata": {
        "id": "SUB656WMEihg"
      },
      "source": [
        "# arrayfire has multiple device options\n",
        "af.set_backend('cpu')     # switch to cpu"
      ],
      "execution_count": null,
      "outputs": []
    },
    {
      "cell_type": "code",
      "metadata": {
        "id": "9jaA59b7E07C"
      },
      "source": [
        "# run something simple on CPU\n",
        "%%timeit                                   \n",
        "A = af.randu(1000, 20)    # create some data in a 1000x20 matrix\n",
        "af.pinverse(A);           # psuedo inverse, modify to benchmark other functions"
      ],
      "execution_count": null,
      "outputs": []
    },
    {
      "cell_type": "code",
      "metadata": {
        "id": "8Ymkz_QxdUlh",
        "colab": {
          "base_uri": "https://localhost:8080/"
        },
        "outputId": "aa27be6c-7fa4-43b5-e56b-3bdbe6cbef35"
      },
      "source": [
        "!wget -qO- http://www.jsoftware.com/download/j902/install/j902_linux64.tar.gz | tar xzf -\n",
        "!j902/bin/jconsole -js \"echo JVERSION\" \"exit 0\""
      ],
      "execution_count": null,
      "outputs": [
        {
          "output_type": "stream",
          "name": "stdout",
          "text": [
            "Engine: j902/j64/linux\n",
            "Release-a: commercial/2020-12-05T11:11:55\n",
            "Library: 9.02.08\n",
            "Platform: Linux 64\n",
            "Installer: J902 install\n",
            "InstallPath: /content/j902\n",
            "Contact: www.jsoftware.com\n"
          ]
        }
      ]
    },
    {
      "cell_type": "code",
      "metadata": {
        "id": "ivO56ym57140"
      },
      "source": [
        "%%bash\n",
        "cat << EOF > install.ijs9!:29]1\n",
        "9!:27 '2!:55]1'\n",
        "load 'pacman'\n",
        "'install' jpkg '*'\n",
        "exit 0\n",
        "EOF\n",
        "j902/bin/jconsole install.ijs"
      ],
      "execution_count": null,
      "outputs": []
    },
    {
      "cell_type": "code",
      "metadata": {
        "colab": {
          "base_uri": "https://localhost:8080/"
        },
        "id": "SNMSeiCf_Zy4",
        "outputId": "440c48d4-c4ca-4a49-fee1-bfb7873b659a"
      },
      "source": [
        "#!ls -lF j902/user/\n",
        "!j902/bin/jconsole -js \"echo jpath '~'\" \"exit 0\"\n",
        "!ls -Fl /content/j902/*"
      ],
      "execution_count": null,
      "outputs": [
        {
          "output_type": "stream",
          "name": "stdout",
          "text": [
            "/content/j902\n",
            "-rwxr-xr-x 1 1000 1000  112 Dec 18  2020 /content/j902/jconsole.sh*\n",
            "-rwxr-xr-x 1 1000 1000  131 Dec 18  2020 /content/j902/jqt.sh*\n",
            "-rw-r--r-- 1 1000 1000  135 Dec 18  2020 /content/j902/readme.txt\n",
            "-rwxr-xr-x 1 1000 1000  189 Dec 18  2020 /content/j902/updateje.sh*\n",
            "-rwxr-xr-x 1 1000 1000  153 Dec 18  2020 /content/j902/updatejqt.sh*\n",
            "\n",
            "/content/j902/addons:\n",
            "total 8\n",
            "drwxr-xr-x 2 root root 4096 Oct 17 19:41 config/\n",
            "drwxr-xr-x 3 1000 1000 4096 Dec 18  2020 ide/\n",
            "\n",
            "/content/j902/bin:\n",
            "total 4044\n",
            "drwxr-xr-x 2 1000 1000    4096 Dec 18  2020 icons/\n",
            "-rw-r--r-- 1 1000 1000      13 Dec 18  2020 installer.txt\n",
            "-rwxr-xr-x 1 1000 1000    3068 Dec 18  2020 install-usr.sh*\n",
            "-rwxr-xr-x 1 1000 1000      56 Dec 18  2020 jbrk*\n",
            "-rwxr-xr-x 1 1000 1000   49056 Dec 18  2020 jconsole*\n",
            "-rwxr-xr-x 1 1000 1000     143 Dec 18  2020 jhs*\n",
            "-rwxr-xr-x 1 1000 1000 4061400 Dec 18  2020 libj.so*\n",
            "-rw-r--r-- 1 1000 1000    1853 Dec 18  2020 profile.ijs\n",
            "-rw-r--r-- 1 1000 1000     801 Dec 18  2020 profilex_template.ijs\n",
            "\n",
            "/content/j902/system:\n",
            "total 20\n",
            "drwxr-xr-x 2 1000 1000 4096 Dec 18  2020 config/\n",
            "drwxr-xr-x 2 1000 1000 4096 Dec 18  2020 defs/\n",
            "drwxr-xr-x 3 1000 1000 4096 Dec 18  2020 license/\n",
            "drwxr-xr-x 2 1000 1000 4096 Dec 18  2020 main/\n",
            "drwxr-xr-x 2 1000 1000 4096 Dec 18  2020 util/\n",
            "\n",
            "/content/j902/tools:\n",
            "total 4\n",
            "drwxr-xr-x 2 1000 1000 4096 Dec 18  2020 regex/\n",
            "\n",
            "/content/j902/user:\n",
            "total 16\n",
            "drwxr-xr-x 2 root root 4096 Oct 17 19:40 break/\n",
            "drwxr-xr-x 2 root root 4096 Oct 17 19:40 config/\n",
            "drwxr-xr-x 2 root root 4096 Oct 17 19:40 projects/\n",
            "drwxr-xr-x 2 root root 4096 Oct 17 19:40 snap/\n"
          ]
        }
      ]
    },
    {
      "cell_type": "code",
      "metadata": {
        "id": "D0XJC4uKe0fN"
      },
      "source": [
        "# !j902/bin/jconsole test.ijs\n",
        "install_ijs = '''\n",
        "9!:29]1\n",
        "9!:27 '2!:55]1'\n",
        "\n",
        "load 'pacman'\n",
        "'install' jpkg 'viewmat'\n",
        "viewmat i.2 3\n",
        "exit 0\n",
        "'''\n",
        "with open('install.ijs', 'w') as f:\n",
        "    print(install_ijs, file=f)\n",
        "    \n",
        "!j902/bin/jconsole install.ijs\n"
      ],
      "execution_count": null,
      "outputs": []
    },
    {
      "cell_type": "code",
      "metadata": {
        "id": "F7LH5rjnfGwk",
        "colab": {
          "base_uri": "https://localhost:8080/"
        },
        "outputId": "49073b52-002a-4da7-cbb8-387bc9e92497"
      },
      "source": [
        "!ls /usr/local/lib/python3.7/*/*rray*"
      ],
      "execution_count": null,
      "outputs": [
        {
          "output_type": "stream",
          "name": "stdout",
          "text": [
            "/usr/local/lib/python3.7/dist-packages/arrayfire:\n",
            "algorithm.py  image.py\t\t libafopencl.so.3      __pycache__\n",
            "arith.py      index.py\t\t libaf.so.3\t       random.py\n",
            "array.py      __init__.py\t libcudnn.so.8.1.0     signal.py\n",
            "base.py       interop.py\t libforge.so.1\t       sparse.py\n",
            "bcast.py      lapack.py\t\t libiomp5.so\t       statistics.py\n",
            "blas.py       libafcpu.debug\t libnvrtc-builtins.so  timer.py\n",
            "cuda.py       libafcpu.so.3\t libnvrtc.so.11.2      util.py\n",
            "data.py       libafcuda.debug\t libOpenCL.so.1        vision.py\n",
            "device.py     libafcuda.so.3\t library.py\n",
            "features.py   libaf.debug\t ml.py\n",
            "graphics.py   libafopencl.debug  opencl.py\n",
            "\n",
            "/usr/local/lib/python3.7/dist-packages/arrayfire-3.8.0+cu112.dist-info:\n",
            "INSTALLER  LICENSE  METADATA  RECORD  REQUESTED  top_level.txt\tWHEEL\n",
            "\n",
            "/usr/local/lib/python3.7/dist-packages/xarray:\n",
            "backends\tconvert.py   plot\t  static      tutorial.py\n",
            "coding\t\tcore\t     __pycache__  testing.py  ufuncs.py\n",
            "conventions.py\t__init__.py  py.typed\t  tests       util\n",
            "\n",
            "/usr/local/lib/python3.7/dist-packages/xarray-0.18.2.dist-info:\n",
            "INSTALLER  LICENSE  METADATA  RECORD  REQUESTED  top_level.txt\tWHEEL\n"
          ]
        }
      ]
    },
    {
      "cell_type": "code",
      "metadata": {
        "id": "vnQw5VL6fiRl"
      },
      "source": [
        "jprog = '''\n",
        "load 'pacman'\n",
        "'install' jpkg '*'\n",
        "exit 0\n",
        "'''\n",
        "\n",
        "with open('install.ijs', 'w') as f:\n",
        "  print(jprog, file=f)\n",
        "\n",
        "!j902/bin/jconsole install.ijs"
      ],
      "execution_count": null,
      "outputs": []
    },
    {
      "cell_type": "code",
      "metadata": {
        "id": "r3E31yXGgxHo"
      },
      "source": [
        "plottest = '''\n",
        "load'plot'\n",
        "plot i.2 3\n",
        "exit''\n",
        "'''\n",
        "\n",
        "with open('t3.ijs', 'w') as f:\n",
        "  print(plottest, file=f)\n",
        "\n",
        "# !j902/bin/jconsole t3.ijs\n",
        "!ls -lF j902/bin"
      ],
      "execution_count": null,
      "outputs": []
    }
  ]
}